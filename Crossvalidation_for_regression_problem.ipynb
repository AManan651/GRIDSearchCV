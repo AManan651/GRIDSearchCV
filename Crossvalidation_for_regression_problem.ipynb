{
  "nbformat": 4,
  "nbformat_minor": 0,
  "metadata": {
    "colab": {
      "provenance": []
    },
    "kernelspec": {
      "name": "python3",
      "display_name": "Python 3"
    },
    "language_info": {
      "name": "python"
    }
  },
  "cells": [
    {
      "cell_type": "code",
      "execution_count": null,
      "metadata": {
        "id": "vLKu-zz0PEoM"
      },
      "outputs": [],
      "source": [
        "#from sklearn.datasets import load_boston\n",
        "#boston=load_boston()\n",
        "from sklearn.datasets import fetch_california_housing\n",
        "house= fetch_california_housing()"
      ]
    },
    {
      "cell_type": "code",
      "source": [
        "house"
      ],
      "metadata": {
        "id": "rGDu-fPFQO0d"
      },
      "execution_count": null,
      "outputs": []
    },
    {
      "cell_type": "code",
      "source": [
        "import pandas as pd\n",
        "import numpy as np\n",
        "import matplotlib.pyplot as plt\n",
        "import seaborn as sns\n",
        "\n"
      ],
      "metadata": {
        "id": "PnfI4r-yQT6M"
      },
      "execution_count": null,
      "outputs": []
    },
    {
      "cell_type": "code",
      "source": [
        "df = pd.DataFrame(data=house.data, columns=house.feature_names)\n",
        "df['target'] = house.target  # Add the target variable to the DataFrame\n",
        "\n",
        "df.head()"
      ],
      "metadata": {
        "id": "NpFLe-jvRV_O"
      },
      "execution_count": null,
      "outputs": []
    },
    {
      "cell_type": "code",
      "source": [
        "df.isnull().sum()"
      ],
      "metadata": {
        "id": "9cVc_ru4RaUe"
      },
      "execution_count": null,
      "outputs": []
    },
    {
      "cell_type": "code",
      "source": [
        "x=df.drop('target',axis=1)\n",
        "y=df['target']\n"
      ],
      "metadata": {
        "id": "yPXLIn0PRiWo"
      },
      "execution_count": null,
      "outputs": []
    },
    {
      "cell_type": "code",
      "source": [
        "from sklearn.model_selection import train_test_split\n",
        "x_train,x_test,y_train,y_test=train_test_split(x,y,test_size=0.2,random_state=42)\n",
        "from sklearn.preprocessing import StandardScaler\n",
        "sc=StandardScaler()\n",
        "x_train_sc=sc.fit_transform(x_train)\n",
        "x_test_sc=sc.transform(x_test)"
      ],
      "metadata": {
        "id": "dohXBEzLX1NW"
      },
      "execution_count": null,
      "outputs": []
    },
    {
      "cell_type": "code",
      "source": [
        "from sklearn.tree import DecisionTreeRegressor\n",
        "from sklearn.metrics import mean_squared_error, r2_score\n",
        "model=DecisionTreeRegressor()\n",
        "model.fit(x_train_sc,y_train)\n"
      ],
      "metadata": {
        "id": "YLMv1pLlYFsY"
      },
      "execution_count": null,
      "outputs": []
    },
    {
      "cell_type": "code",
      "source": [
        "print(r2_score(y_test,model.predict(x_test_sc)))\n",
        "print(mean_squared_error(y_test,model.predict(x_test_sc)))\n"
      ],
      "metadata": {
        "id": "t6rgcV78YxDo"
      },
      "execution_count": null,
      "outputs": []
    },
    {
      "cell_type": "code",
      "source": [
        "print(r2_score(y_train,model.predict(x_train_sc)))\n",
        "print(mean_squared_error(y_train,model.predict(x_train_sc)))"
      ],
      "metadata": {
        "id": "v3PmT2zQZX9W"
      },
      "execution_count": null,
      "outputs": []
    },
    {
      "cell_type": "code",
      "source": [
        "#hyper parameter\n",
        "parameter = {\n",
        "    'criterion': [\"squared_error\", \"friedman_mse\", \"absolute_error\", \"poisson\"],\n",
        "    'splitter': [\"best\", \"random\"],\n",
        "    'max_depth': [1,2,3,4,5,6,7],\n",
        "     'max_features' : [\"auto\", \"sqrt\", \"log2\"],\n",
        "    'min_samples_leaf': [1,2,3,4,5,6,7],\n",
        "    'random_state': [40,41,42,43]\n",
        "\n",
        "\n",
        "}"
      ],
      "metadata": {
        "id": "xCCWg3HJargP"
      },
      "execution_count": null,
      "outputs": []
    },
    {
      "cell_type": "code",
      "source": [
        "from sklearn.model_selection import GridSearchCV\n",
        "gcv=GridSearchCV(estimator=model,param_grid=parameter,cv=5,scoring='neg_mean_squared_error')\n"
      ],
      "metadata": {
        "id": "ALs0fVdodC9e"
      },
      "execution_count": null,
      "outputs": []
    },
    {
      "cell_type": "code",
      "source": [
        "gcv.fit(x_train_sc,y_train)"
      ],
      "metadata": {
        "id": "yoylK7AZf70e"
      },
      "execution_count": null,
      "outputs": []
    },
    {
      "cell_type": "code",
      "source": [
        "from sklearn.metrics import mean_squared_error, r2_score\n",
        "print(\"R2 Score of test data\",r2_score(y_test,gcv.predict(x_test_sc)))\n",
        "print(\"Mean square  Error\",mean_squared_error(y_test,gcv.predict(x_test_sc)))"
      ],
      "metadata": {
        "id": "dttNEUCsjPzD"
      },
      "execution_count": null,
      "outputs": []
    },
    {
      "cell_type": "code",
      "source": [
        "\n",
        "print(\"R2 Score of test data\",r2_score(y_train,gcv.predict(x_train_sc)))\n",
        "print(\"Mean square  Error\",mean_squared_error(y_train,gcv.predict(x_train_sc)))"
      ],
      "metadata": {
        "id": "DrcQPOLjkANv"
      },
      "execution_count": null,
      "outputs": []
    }
  ]
}